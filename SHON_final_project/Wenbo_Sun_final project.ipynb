{
 "cells": [
  {
   "cell_type": "markdown",
   "metadata": {
    "id": "CCSqxIaaQQTP"
   },
   "source": [
    "\n",
    "## Predicting Stock Price using RNNs"
   ]
  },
  {
   "cell_type": "markdown",
   "metadata": {
    "id": "quG66dGDwJsc"
   },
   "source": [
    "## Importing the dataset\n",
    "\n",
    "Mount your drive using the code below."
   ]
  },
  {
   "cell_type": "code",
   "execution_count": 1,
   "metadata": {
    "colab": {
     "base_uri": "https://localhost:8080/",
     "height": 34
    },
    "executionInfo": {
     "elapsed": 19629,
     "status": "ok",
     "timestamp": 1602351885664,
     "user": {
      "displayName": "Wenbo Sun",
      "photoUrl": "https://lh3.googleusercontent.com/a-/AOh14GjbODTcAfnSjY7ZGd6L0WOazZodNthJ9oDCwoCB=s64",
      "userId": "07942638377088533800"
     },
     "user_tz": 240
    },
    "id": "txcag5bdwUig",
    "outputId": "a6bd5832-a1c6-48ef-a5a8-ac2835099453"
   },
   "outputs": [
    {
     "name": "stdout",
     "output_type": "stream",
     "text": [
      "Mounted at /content/drive\n"
     ]
    }
   ],
   "source": [
    "# Mount the drive\n",
    "from google.colab import drive\n",
    "drive.mount('/content/drive', force_remount=True)\n",
    "\n",
    "# The first time that you run this cell, you will need to authorize access in your drive. \n",
    "# Go to the link and copy the authorization code"
   ]
  },
  {
   "cell_type": "code",
   "execution_count": 2,
   "metadata": {
    "executionInfo": {
     "elapsed": 386,
     "status": "ok",
     "timestamp": 1602351892855,
     "user": {
      "displayName": "Wenbo Sun",
      "photoUrl": "https://lh3.googleusercontent.com/a-/AOh14GjbODTcAfnSjY7ZGd6L0WOazZodNthJ9oDCwoCB=s64",
      "userId": "07942638377088533800"
     },
     "user_tz": 240
    },
    "id": "xQuzCF3zwVD_"
   },
   "outputs": [],
   "source": [
    "# Define the directory where your \".csv\" file resides on your google drive\n",
    "# My path is the following (your path will be different): \n",
    "fname = '/content/drive/My Drive/MSBA446/data/AAPL2005-2020.csv'"
   ]
  },
  {
   "cell_type": "code",
   "execution_count": 3,
   "metadata": {
    "colab": {
     "base_uri": "https://localhost:8080/",
     "height": 50
    },
    "executionInfo": {
     "elapsed": 788,
     "status": "ok",
     "timestamp": 1602351895226,
     "user": {
      "displayName": "Wenbo Sun",
      "photoUrl": "https://lh3.googleusercontent.com/a-/AOh14GjbODTcAfnSjY7ZGd6L0WOazZodNthJ9oDCwoCB=s64",
      "userId": "07942638377088533800"
     },
     "user_tz": 240
    },
    "id": "-6mhbwq7wJsd",
    "outputId": "49cee506-e44b-484a-e07e-6ecb517e735b",
    "scrolled": true
   },
   "outputs": [
    {
     "name": "stdout",
     "output_type": "stream",
     "text": [
      "['Date', 'Open', 'High', 'Low', 'Close', 'Adj Close', 'Volume']\n",
      "3957\n"
     ]
    }
   ],
   "source": [
    "f = open(fname)\n",
    "data = f.read()\n",
    "f.close()\n",
    "\n",
    "data_lines = data.split('\\n')     # Each line is 1 recording\n",
    "header = data_lines[0].split(',') # Variable names are separated by commas\n",
    "lines = data_lines[1:3958]        # Drop first line (it's a header)\n",
    "\n",
    "print(header)\n",
    "print(len(lines))"
   ]
  },
  {
   "cell_type": "code",
   "execution_count": 4,
   "metadata": {
    "colab": {
     "base_uri": "https://localhost:8080/",
     "height": 34
    },
    "executionInfo": {
     "elapsed": 334,
     "status": "ok",
     "timestamp": 1602351898515,
     "user": {
      "displayName": "Wenbo Sun",
      "photoUrl": "https://lh3.googleusercontent.com/a-/AOh14GjbODTcAfnSjY7ZGd6L0WOazZodNthJ9oDCwoCB=s64",
      "userId": "07942638377088533800"
     },
     "user_tz": 240
    },
    "id": "mqJSObrnwJsg",
    "outputId": "f1c1d6d9-7290-483b-d2bc-63b9d9de228a"
   },
   "outputs": [
    {
     "name": "stdout",
     "output_type": "stream",
     "text": [
      "(3957, 4)\n"
     ]
    }
   ],
   "source": [
    "import numpy as np\n",
    "\n",
    "float_data = np.zeros((len(lines), 4))\n",
    "for i, line in enumerate(lines):\n",
    "    values = [float(x) for x in line.split(',')[1:5]]\n",
    "    float_data[i, :] = values\n",
    "print(float_data.shape)\n",
    "# Note that we only keep the following 4 columns: Open, High, Low, Close"
   ]
  },
  {
   "cell_type": "code",
   "execution_count": 6,
   "metadata": {
    "colab": {
     "base_uri": "https://localhost:8080/",
     "height": 285
    },
    "executionInfo": {
     "elapsed": 458,
     "status": "ok",
     "timestamp": 1602351924593,
     "user": {
      "displayName": "Wenbo Sun",
      "photoUrl": "https://lh3.googleusercontent.com/a-/AOh14GjbODTcAfnSjY7ZGd6L0WOazZodNthJ9oDCwoCB=s64",
      "userId": "07942638377088533800"
     },
     "user_tz": 240
    },
    "id": "Rn5bpjbXwJsj",
    "outputId": "5be9dc21-d2e2-4de1-9194-bd3d2050ed13"
   },
   "outputs": [
    {
     "data": {
      "text/plain": [
       "[<matplotlib.lines.Line2D at 0x7f47fa41b978>]"
      ]
     },
     "execution_count": 6,
     "metadata": {
      "tags": []
     },
     "output_type": "execute_result"
    },
    {
     "data": {
      "image/png": "[encoded data removed]",
      "text/plain": [
       "<Figure size 432x288 with 1 Axes>"
      ]
     },
     "metadata": {
      "needs_background": "light",
      "tags": []
     },
     "output_type": "display_data"
    }
   ],
   "source": [
    "%matplotlib inline\n",
    "from matplotlib import pyplot as plt\n",
    "\n",
    "close = float_data[:, 3]  # index 3 is close price\n",
    "plt.plot(range(len(close)), close)"
   ]
  },
  {
   "cell_type": "markdown",
   "metadata": {
    "id": "njBvZMjb4IN9"
   },
   "source": [
    "## Input normalization\n",
    "\n",
    "Since the stock price data (Open, High, Low, Close) are positive numbers, we can divide each column by it's maximum value to make the values between 0 and 1. "
   ]
  },
  {
   "cell_type": "code",
   "execution_count": 7,
   "metadata": {
    "executionInfo": {
     "elapsed": 288,
     "status": "ok",
     "timestamp": 1602351937084,
     "user": {
      "displayName": "Wenbo Sun",
      "photoUrl": "https://lh3.googleusercontent.com/a-/AOh14GjbODTcAfnSjY7ZGd6L0WOazZodNthJ9oDCwoCB=s64",
      "userId": "07942638377088533800"
     },
     "user_tz": 240
    },
    "id": "ZRlXWORR2NSm"
   },
   "outputs": [],
   "source": [
    "float_data /= float_data.max(axis=0)"
   ]
  },
  {
   "cell_type": "code",
   "execution_count": 8,
   "metadata": {
    "colab": {
     "base_uri": "https://localhost:8080/",
     "height": 134
    },
    "executionInfo": {
     "elapsed": 174,
     "status": "ok",
     "timestamp": 1602351938201,
     "user": {
      "displayName": "Wenbo Sun",
      "photoUrl": "https://lh3.googleusercontent.com/a-/AOh14GjbODTcAfnSjY7ZGd6L0WOazZodNthJ9oDCwoCB=s64",
      "userId": "07942638377088533800"
     },
     "user_tz": 240
    },
    "id": "mUA2JKw0xyvl",
    "outputId": "c17b3a07-d8d2-45bf-8944-e55c66915434"
   },
   "outputs": [
    {
     "data": {
      "text/plain": [
       "array([[0.00840749, 0.00842643, 0.00856399, 0.00842286],\n",
       "       [0.008279  , 0.00847302, 0.0086146 , 0.00850936],\n",
       "       [0.00836595, 0.00844455, 0.00876235, 0.00858389],\n",
       "       ...,\n",
       "       [0.7974417 , 0.81316133, 0.83283536, 0.82232823],\n",
       "       [0.80238393, 0.80359473, 0.81276333, 0.79624386],\n",
       "       [0.75979362, 0.79859404, 0.78985673, 0.82039058]])"
      ]
     },
     "execution_count": 8,
     "metadata": {
      "tags": []
     },
     "output_type": "execute_result"
    }
   ],
   "source": [
    "float_data"
   ]
  },
  {
   "cell_type": "markdown",
   "metadata": {
    "id": "nZXighcIwJsq"
   },
   "source": [
    "## Data generator"
   ]
  },
  {
   "cell_type": "code",
   "execution_count": 9,
   "metadata": {
    "executionInfo": {
     "elapsed": 245,
     "status": "ok",
     "timestamp": 1602351954418,
     "user": {
      "displayName": "Wenbo Sun",
      "photoUrl": "https://lh3.googleusercontent.com/a-/AOh14GjbODTcAfnSjY7ZGd6L0WOazZodNthJ9oDCwoCB=s64",
      "userId": "07942638377088533800"
     },
     "user_tz": 240
    },
    "id": "YVhY76vxwJsu"
   },
   "outputs": [],
   "source": [
    "import numpy as np\n",
    " \n",
    "def generator(data, lookback, delay, min_index, max_index, shuffle, batch_size, step, target_index):\n",
    "    if max_index is None:\n",
    "        max_index = len(data) - delay - 1\n",
    "    i = min_index + lookback\n",
    "    # Out dara generator will generate data indefinitely, so we will have to tell Keras\n",
    "    # how many batches constitute an epoch ('steps_per_epoch' and 'validation_steps' in model.fit)\n",
    "    while 1:\n",
    "        # For the training set (shuffle=True), randomly choose points in time\n",
    "        if shuffle:\n",
    "            rows = np.random.randint(\n",
    "                min_index + lookback, max_index, size=batch_size)\n",
    "        # For the validation and test sets, choose batches of timesteps (in chronological order)\n",
    "        else:\n",
    "            if i + batch_size >= max_index:\n",
    "                i = min_index + lookback\n",
    "            rows = np.arange(i, min(i + batch_size, max_index))\n",
    "            i += len(rows)\n",
    "\n",
    "        samples = np.zeros((len(rows),       # Batch size\n",
    "                           lookback // step, # Floor division (e.g., 5//2=2)\n",
    "                           data.shape[-1]))  # Number of columns in data\n",
    "        targets = np.zeros((len(rows),))\n",
    "        for j, row in enumerate(rows):\n",
    "            indices = range(rows[j] - lookback, rows[j], step)\n",
    "            samples[j] = data[indices]\n",
    "            targets[j] = data[rows[j] + delay][target_index]\n",
    "        yield samples, targets"
   ]
  },
  {
   "cell_type": "markdown",
   "metadata": {
    "id": "cptrMtzC6-0d"
   },
   "source": [
    "## a recurrent neural network with one `SimpleRNN` layer\n",
    "\n",
    " include 128 units in the `SimpleRNN` layer. \n"
   ]
  },
  {
   "cell_type": "code",
   "execution_count": 10,
   "metadata": {
    "colab": {
     "base_uri": "https://localhost:8080/",
     "height": 50
    },
    "executionInfo": {
     "elapsed": 274,
     "status": "ok",
     "timestamp": 1602351957443,
     "user": {
      "displayName": "Wenbo Sun",
      "photoUrl": "https://lh3.googleusercontent.com/a-/AOh14GjbODTcAfnSjY7ZGd6L0WOazZodNthJ9oDCwoCB=s64",
      "userId": "07942638377088533800"
     },
     "user_tz": 240
    },
    "id": "pkGbaynpyHLT",
    "outputId": "6bbe1f05-543e-4649-d293-8380a0583d55"
   },
   "outputs": [
    {
     "name": "stdout",
     "output_type": "stream",
     "text": [
      "14\n",
      "14\n"
     ]
    }
   ],
   "source": [
    "# First, create instances of the data generator as train_gen, val_gen, and test_gen.\n",
    "lookback = 60\n",
    "step = 1\n",
    "delay = 5\n",
    "batch_size = 64\n",
    "target_index = 3\n",
    "\n",
    "train_gen = generator(float_data,\n",
    "                      lookback=lookback,\n",
    "                      delay=delay,\n",
    "                      min_index=0,\n",
    "                      max_index=2000,\n",
    "                      shuffle=True,\n",
    "                      step=step, \n",
    "                      batch_size=batch_size,\n",
    "                      target_index=target_index)\n",
    "\n",
    "val_gen = generator(float_data,\n",
    "                    lookback=lookback,\n",
    "                    delay=delay,\n",
    "                    min_index=2001,\n",
    "                    max_index=3000,\n",
    "                    shuffle=False,\n",
    "                    step=step,\n",
    "                    batch_size=batch_size,\n",
    "                    target_index=target_index)\n",
    "\n",
    "test_gen = generator(float_data,\n",
    "                     lookback=lookback,\n",
    "                     delay=delay,\n",
    "                     min_index=3001,\n",
    "                     max_index=None,\n",
    "                     shuffle=False,\n",
    "                     step=step,\n",
    "                     batch_size=batch_size,\n",
    "                     target_index=target_index)\n",
    "\n",
    "\n",
    "# This is how many steps to draw from `val_gen`\n",
    "# in order to see the whole validation set:\n",
    "val_steps = (3000 - 2001 - lookback) // batch_size\n",
    "\n",
    "# This is how many steps to draw from `test_gen`\n",
    "# in order to see the whole test set:\n",
    "test_steps = (len(float_data) - 3001 - lookback) // batch_size\n",
    "#test_steps = (3957 - 300001 - lookback) // batch_size\n",
    "\n",
    "print(val_steps)\n",
    "print(test_steps)"
   ]
  },
  {
   "cell_type": "code",
   "execution_count": 11,
   "metadata": {
    "executionInfo": {
     "elapsed": 2536,
     "status": "ok",
     "timestamp": 1602351962867,
     "user": {
      "displayName": "Wenbo Sun",
      "photoUrl": "https://lh3.googleusercontent.com/a-/AOh14GjbODTcAfnSjY7ZGd6L0WOazZodNthJ9oDCwoCB=s64",
      "userId": "07942638377088533800"
     },
     "user_tz": 240
    },
    "id": "4WA4wLbP0TsA"
   },
   "outputs": [],
   "source": [
    "# Then, develop a recurrent neural network with one SimpleRNN layer. \n",
    "# For this question, include 128 units in the SimpleRNN layer.\n",
    "from tensorflow.keras import models\n",
    "from tensorflow.keras import layers\n",
    "\n",
    "model1 = models.Sequential()\n",
    "model1.add(layers.SimpleRNN(128, input_shape=(lookback // step, 4)))\n",
    "\n",
    "# The output unit have no activation since this is continous prediction\n",
    "model1.add(layers.Dense(1))\n",
    "\n",
    "\n"
   ]
  },
  {
   "cell_type": "code",
   "execution_count": 12,
   "metadata": {
    "executionInfo": {
     "elapsed": 186,
     "status": "ok",
     "timestamp": 1602351965609,
     "user": {
      "displayName": "Wenbo Sun",
      "photoUrl": "https://lh3.googleusercontent.com/a-/AOh14GjbODTcAfnSjY7ZGd6L0WOazZodNthJ9oDCwoCB=s64",
      "userId": "07942638377088533800"
     },
     "user_tz": 240
    },
    "id": "dPYih49U2qRU"
   },
   "outputs": [],
   "source": [
    "# Compile this model using the Adam optimizer and change the learning rate to 0.0001. \n",
    "# Use the appropriate loss function for this problem. During the training process, \n",
    "# follow mean absolute percentage error or the mape metric on the train and validation sets. \n",
    "# This will give you the percentage error for your stock price predictions.\n",
    "# model1.compile(optimizer='adam', loss='mse', metrics=['mae'])\n",
    "from tensorflow.keras import optimizers\n",
    "from tensorflow.keras import losses\n",
    "from tensorflow.keras import metrics\n",
    "\n",
    "model1.compile(optimizer=optimizers.Adam(learning_rate=1e-4),\n",
    "              loss=losses.MeanSquaredError(),\n",
    "              metrics=[metrics.MeanAbsoluteError()])"
   ]
  },
  {
   "cell_type": "code",
   "execution_count": null,
   "metadata": {
    "id": "Ncd7CvaH_RL7"
   },
   "outputs": [],
   "source": []
  },
  {
   "cell_type": "code",
   "execution_count": 13,
   "metadata": {
    "colab": {
     "base_uri": "https://localhost:8080/",
     "height": 1000
    },
    "executionInfo": {
     "elapsed": 37449,
     "status": "ok",
     "timestamp": 1602352005333,
     "user": {
      "displayName": "Wenbo Sun",
      "photoUrl": "https://lh3.googleusercontent.com/a-/AOh14GjbODTcAfnSjY7ZGd6L0WOazZodNthJ9oDCwoCB=s64",
      "userId": "07942638377088533800"
     },
     "user_tz": 240
    },
    "id": "QDvmCBjf4YN4",
    "outputId": "5f7ded47-d0ae-44b8-cf25-c4aa289a7a54"
   },
   "outputs": [
    {
     "name": "stdout",
     "output_type": "stream",
     "text": [
      "Epoch 1/50\n",
      "20/20 [==============================] - 1s 48ms/step - loss: 0.0017 - mean_absolute_error: 0.0277 - val_loss: 0.0020 - val_mean_absolute_error: 0.0355\n",
      "Epoch 2/50\n",
      "20/20 [==============================] - 1s 35ms/step - loss: 1.7419e-04 - mean_absolute_error: 0.0108 - val_loss: 9.1888e-04 - val_mean_absolute_error: 0.0242\n",
      "Epoch 3/50\n",
      "20/20 [==============================] - 1s 34ms/step - loss: 9.2024e-05 - mean_absolute_error: 0.0071 - val_loss: 6.0254e-04 - val_mean_absolute_error: 0.0197\n",
      "Epoch 4/50\n",
      "20/20 [==============================] - 1s 35ms/step - loss: 6.0956e-05 - mean_absolute_error: 0.0055 - val_loss: 4.8263e-04 - val_mean_absolute_error: 0.0178\n",
      "Epoch 5/50\n",
      "20/20 [==============================] - 1s 34ms/step - loss: 5.5166e-05 - mean_absolute_error: 0.0051 - val_loss: 4.3391e-04 - val_mean_absolute_error: 0.0171\n",
      "Epoch 6/50\n",
      "20/20 [==============================] - 1s 33ms/step - loss: 5.4065e-05 - mean_absolute_error: 0.0051 - val_loss: 2.1262e-04 - val_mean_absolute_error: 0.0116\n",
      "Epoch 7/50\n",
      "20/20 [==============================] - 1s 33ms/step - loss: 4.3449e-05 - mean_absolute_error: 0.0045 - val_loss: 2.2556e-04 - val_mean_absolute_error: 0.0121\n",
      "Epoch 8/50\n",
      "20/20 [==============================] - 1s 34ms/step - loss: 4.2032e-05 - mean_absolute_error: 0.0044 - val_loss: 1.7091e-04 - val_mean_absolute_error: 0.0103\n",
      "Epoch 9/50\n",
      "20/20 [==============================] - 1s 35ms/step - loss: 4.4692e-05 - mean_absolute_error: 0.0046 - val_loss: 1.8071e-04 - val_mean_absolute_error: 0.0107\n",
      "Epoch 10/50\n",
      "20/20 [==============================] - 1s 34ms/step - loss: 4.5712e-05 - mean_absolute_error: 0.0046 - val_loss: 2.9993e-04 - val_mean_absolute_error: 0.0144\n",
      "Epoch 11/50\n",
      "20/20 [==============================] - 1s 34ms/step - loss: 3.9989e-05 - mean_absolute_error: 0.0043 - val_loss: 1.8964e-04 - val_mean_absolute_error: 0.0111\n",
      "Epoch 12/50\n",
      "20/20 [==============================] - 1s 33ms/step - loss: 3.8909e-05 - mean_absolute_error: 0.0042 - val_loss: 1.6003e-04 - val_mean_absolute_error: 0.0101\n",
      "Epoch 13/50\n",
      "20/20 [==============================] - 1s 34ms/step - loss: 3.0555e-05 - mean_absolute_error: 0.0039 - val_loss: 1.5437e-04 - val_mean_absolute_error: 0.0099\n",
      "Epoch 14/50\n",
      "20/20 [==============================] - 1s 34ms/step - loss: 3.2935e-05 - mean_absolute_error: 0.0039 - val_loss: 1.1675e-04 - val_mean_absolute_error: 0.0084\n",
      "Epoch 15/50\n",
      "20/20 [==============================] - 1s 34ms/step - loss: 2.8844e-05 - mean_absolute_error: 0.0037 - val_loss: 1.1324e-04 - val_mean_absolute_error: 0.0083\n",
      "Epoch 16/50\n",
      "20/20 [==============================] - 1s 33ms/step - loss: 3.0727e-05 - mean_absolute_error: 0.0038 - val_loss: 1.1246e-04 - val_mean_absolute_error: 0.0083\n",
      "Epoch 17/50\n",
      "20/20 [==============================] - 1s 34ms/step - loss: 2.9029e-05 - mean_absolute_error: 0.0037 - val_loss: 1.0534e-04 - val_mean_absolute_error: 0.0080\n",
      "Epoch 18/50\n",
      "20/20 [==============================] - 1s 32ms/step - loss: 3.1134e-05 - mean_absolute_error: 0.0038 - val_loss: 1.0066e-04 - val_mean_absolute_error: 0.0078\n",
      "Epoch 19/50\n",
      "20/20 [==============================] - 1s 35ms/step - loss: 2.7850e-05 - mean_absolute_error: 0.0037 - val_loss: 1.1045e-04 - val_mean_absolute_error: 0.0083\n",
      "Epoch 20/50\n",
      "20/20 [==============================] - 1s 34ms/step - loss: 3.0196e-05 - mean_absolute_error: 0.0038 - val_loss: 9.3631e-05 - val_mean_absolute_error: 0.0075\n",
      "Epoch 21/50\n",
      "20/20 [==============================] - 1s 34ms/step - loss: 2.8781e-05 - mean_absolute_error: 0.0037 - val_loss: 9.6750e-05 - val_mean_absolute_error: 0.0077\n",
      "Epoch 22/50\n",
      "20/20 [==============================] - 1s 33ms/step - loss: 2.5173e-05 - mean_absolute_error: 0.0035 - val_loss: 1.0237e-04 - val_mean_absolute_error: 0.0080\n",
      "Epoch 23/50\n",
      "20/20 [==============================] - 1s 32ms/step - loss: 2.4494e-05 - mean_absolute_error: 0.0035 - val_loss: 9.2274e-05 - val_mean_absolute_error: 0.0075\n",
      "Epoch 24/50\n",
      "20/20 [==============================] - 1s 34ms/step - loss: 2.3839e-05 - mean_absolute_error: 0.0034 - val_loss: 8.5837e-05 - val_mean_absolute_error: 0.0072\n",
      "Epoch 25/50\n",
      "20/20 [==============================] - 1s 35ms/step - loss: 2.4363e-05 - mean_absolute_error: 0.0033 - val_loss: 8.7443e-05 - val_mean_absolute_error: 0.0073\n",
      "Epoch 26/50\n",
      "20/20 [==============================] - 1s 34ms/step - loss: 2.2398e-05 - mean_absolute_error: 0.0033 - val_loss: 8.4863e-05 - val_mean_absolute_error: 0.0072\n",
      "Epoch 27/50\n",
      "20/20 [==============================] - 1s 34ms/step - loss: 2.4016e-05 - mean_absolute_error: 0.0034 - val_loss: 8.6572e-05 - val_mean_absolute_error: 0.0073\n",
      "Epoch 28/50\n",
      "20/20 [==============================] - 1s 33ms/step - loss: 2.3777e-05 - mean_absolute_error: 0.0035 - val_loss: 8.1630e-05 - val_mean_absolute_error: 0.0070\n",
      "Epoch 29/50\n",
      "20/20 [==============================] - 1s 34ms/step - loss: 2.2488e-05 - mean_absolute_error: 0.0033 - val_loss: 8.0049e-05 - val_mean_absolute_error: 0.0069\n",
      "Epoch 30/50\n",
      "20/20 [==============================] - 1s 34ms/step - loss: 2.0871e-05 - mean_absolute_error: 0.0031 - val_loss: 8.0834e-05 - val_mean_absolute_error: 0.0070\n",
      "Epoch 31/50\n",
      "20/20 [==============================] - 1s 35ms/step - loss: 2.1265e-05 - mean_absolute_error: 0.0031 - val_loss: 7.8858e-05 - val_mean_absolute_error: 0.0069\n",
      "Epoch 32/50\n",
      "20/20 [==============================] - 1s 35ms/step - loss: 2.3241e-05 - mean_absolute_error: 0.0033 - val_loss: 7.6158e-05 - val_mean_absolute_error: 0.0068\n",
      "Epoch 33/50\n",
      "20/20 [==============================] - 1s 36ms/step - loss: 2.0530e-05 - mean_absolute_error: 0.0031 - val_loss: 1.0590e-04 - val_mean_absolute_error: 0.0082\n",
      "Epoch 34/50\n",
      "20/20 [==============================] - 1s 35ms/step - loss: 2.1349e-05 - mean_absolute_error: 0.0032 - val_loss: 7.5006e-05 - val_mean_absolute_error: 0.0067\n",
      "Epoch 35/50\n",
      "20/20 [==============================] - 1s 34ms/step - loss: 2.3643e-05 - mean_absolute_error: 0.0034 - val_loss: 9.3775e-05 - val_mean_absolute_error: 0.0076\n",
      "Epoch 36/50\n",
      "20/20 [==============================] - 1s 34ms/step - loss: 2.1219e-05 - mean_absolute_error: 0.0032 - val_loss: 7.4749e-05 - val_mean_absolute_error: 0.0067\n",
      "Epoch 37/50\n",
      "20/20 [==============================] - 1s 33ms/step - loss: 2.2087e-05 - mean_absolute_error: 0.0033 - val_loss: 7.2598e-05 - val_mean_absolute_error: 0.0066\n",
      "Epoch 38/50\n",
      "20/20 [==============================] - 1s 34ms/step - loss: 2.2238e-05 - mean_absolute_error: 0.0033 - val_loss: 7.2761e-05 - val_mean_absolute_error: 0.0066\n",
      "Epoch 39/50\n",
      "20/20 [==============================] - 1s 33ms/step - loss: 1.7181e-05 - mean_absolute_error: 0.0029 - val_loss: 9.3698e-05 - val_mean_absolute_error: 0.0077\n",
      "Epoch 40/50\n",
      "20/20 [==============================] - 1s 34ms/step - loss: 2.2742e-05 - mean_absolute_error: 0.0033 - val_loss: 7.7386e-05 - val_mean_absolute_error: 0.0068\n",
      "Epoch 41/50\n",
      "20/20 [==============================] - 1s 34ms/step - loss: 1.9634e-05 - mean_absolute_error: 0.0031 - val_loss: 7.0912e-05 - val_mean_absolute_error: 0.0065\n",
      "Epoch 42/50\n",
      "20/20 [==============================] - 1s 37ms/step - loss: 2.0142e-05 - mean_absolute_error: 0.0031 - val_loss: 8.0188e-05 - val_mean_absolute_error: 0.0070\n",
      "Epoch 43/50\n",
      "20/20 [==============================] - 1s 34ms/step - loss: 1.9863e-05 - mean_absolute_error: 0.0031 - val_loss: 7.7925e-05 - val_mean_absolute_error: 0.0069\n",
      "Epoch 44/50\n",
      "20/20 [==============================] - 1s 34ms/step - loss: 2.0163e-05 - mean_absolute_error: 0.0031 - val_loss: 7.2277e-05 - val_mean_absolute_error: 0.0066\n",
      "Epoch 45/50\n",
      "20/20 [==============================] - 1s 34ms/step - loss: 1.8132e-05 - mean_absolute_error: 0.0029 - val_loss: 7.0418e-05 - val_mean_absolute_error: 0.0065\n",
      "Epoch 46/50\n",
      "20/20 [==============================] - 1s 34ms/step - loss: 1.9374e-05 - mean_absolute_error: 0.0030 - val_loss: 8.7096e-05 - val_mean_absolute_error: 0.0073\n",
      "Epoch 47/50\n",
      "20/20 [==============================] - 1s 34ms/step - loss: 2.3885e-05 - mean_absolute_error: 0.0034 - val_loss: 9.0527e-05 - val_mean_absolute_error: 0.0075\n",
      "Epoch 48/50\n",
      "20/20 [==============================] - 1s 33ms/step - loss: 2.4072e-05 - mean_absolute_error: 0.0034 - val_loss: 1.1049e-04 - val_mean_absolute_error: 0.0085\n",
      "Epoch 49/50\n",
      "20/20 [==============================] - 1s 33ms/step - loss: 2.2794e-05 - mean_absolute_error: 0.0033 - val_loss: 7.0898e-05 - val_mean_absolute_error: 0.0066\n",
      "Epoch 50/50\n",
      "20/20 [==============================] - 1s 35ms/step - loss: 1.9548e-05 - mean_absolute_error: 0.0031 - val_loss: 7.4621e-05 - val_mean_absolute_error: 0.0067\n"
     ]
    }
   ],
   "source": [
    "# Train your RNN model for 50 epochs. Given that our data generator creates batches of data indefinitely, \n",
    "# we will have to tell Keras how many training (validation) batches constitute one training (validation) epoch. \n",
    "# To do so, use steps_per_epoch=20 and validation_steps=14.\n",
    "model1_history = model1.fit(train_gen,\n",
    "                            steps_per_epoch=20,\n",
    "                            epochs=50,\n",
    "                            validation_data=val_gen,\n",
    "                            validation_steps=val_steps)"
   ]
  },
  {
   "cell_type": "code",
   "execution_count": 14,
   "metadata": {
    "colab": {
     "base_uri": "https://localhost:8080/",
     "height": 302
    },
    "executionInfo": {
     "elapsed": 810,
     "status": "ok",
     "timestamp": 1602352015533,
     "user": {
      "displayName": "Wenbo Sun",
      "photoUrl": "https://lh3.googleusercontent.com/a-/AOh14GjbODTcAfnSjY7ZGd6L0WOazZodNthJ9oDCwoCB=s64",
      "userId": "07942638377088533800"
     },
     "user_tz": 240
    },
    "id": "SAT1ijHO_Sww",
    "outputId": "528b707a-4f6e-49f4-be1b-458463d1608e"
   },
   "outputs": [
    {
     "data": {
      "text/plain": [
       "<matplotlib.legend.Legend at 0x7f47b71eee48>"
      ]
     },
     "execution_count": 14,
     "metadata": {
      "tags": []
     },
     "output_type": "execute_result"
    },
    {
     "data": {
      "image/png": "[encoded data removed]",
      "text/plain": [
       "<Figure size 432x288 with 1 Axes>"
      ]
     },
     "metadata": {
      "tags": []
     },
     "output_type": "display_data"
    }
   ],
   "source": [
    "import seaborn as sns\n",
    "sns.set()\n",
    "\n",
    "train_loss1 = model1_history.history['loss']\n",
    "train_mae1 = model1_history.history['mean_absolute_error']\n",
    "val_loss1 = model1_history.history['val_loss']\n",
    "val_mae1 = model1_history.history['val_mean_absolute_error']\n",
    "\n",
    "epochs = range(1, len(train_loss1) + 1)\n",
    "\n",
    "plt.plot(epochs, train_loss1, label = 'Training Loss')\n",
    "plt.plot(epochs, val_loss1, label = 'Validation Loss')\n",
    "plt.xlabel('Epochs')\n",
    "plt.ylabel('Loss')\n",
    "plt.legend()"
   ]
  },
  {
   "cell_type": "code",
   "execution_count": 15,
   "metadata": {
    "colab": {
     "base_uri": "https://localhost:8080/",
     "height": 302
    },
    "executionInfo": {
     "elapsed": 550,
     "status": "ok",
     "timestamp": 1602352018424,
     "user": {
      "displayName": "Wenbo Sun",
      "photoUrl": "https://lh3.googleusercontent.com/a-/AOh14GjbODTcAfnSjY7ZGd6L0WOazZodNthJ9oDCwoCB=s64",
      "userId": "07942638377088533800"
     },
     "user_tz": 240
    },
    "id": "aD3k2y4j_rxu",
    "outputId": "478b2cac-5f43-40cb-d24d-1ce0c344afc9"
   },
   "outputs": [
    {
     "data": {
      "text/plain": [
       "<matplotlib.legend.Legend at 0x7f47b7171ba8>"
      ]
     },
     "execution_count": 15,
     "metadata": {
      "tags": []
     },
     "output_type": "execute_result"
    },
    {
     "data": {
      "image/png": "[encoded data removed]",
      "text/plain": [
       "<Figure size 432x288 with 1 Axes>"
      ]
     },
     "metadata": {
      "tags": []
     },
     "output_type": "display_data"
    }
   ],
   "source": [
    "import seaborn as sns\n",
    "sns.set()\n",
    "\n",
    "train_loss1 = model1_history.history['loss']\n",
    "train_mae1 = model1_history.history['mean_absolute_error']\n",
    "val_loss1 = model1_history.history['val_loss']\n",
    "val_mae1 = model1_history.history['val_mean_absolute_error']\n",
    "\n",
    "epochs = range(1, len(train_loss1) + 1)\n",
    "\n",
    "plt.plot(epochs[2:], train_loss1[2:], label = 'Training Loss')\n",
    "plt.plot(epochs[2:], val_loss1[2:], label = 'Validation Loss')\n",
    "plt.xlabel('Epochs')\n",
    "plt.ylabel('Loss')\n",
    "plt.legend()"
   ]
  },
  {
   "cell_type": "code",
   "execution_count": 16,
   "metadata": {
    "colab": {
     "base_uri": "https://localhost:8080/",
     "height": 302
    },
    "executionInfo": {
     "elapsed": 553,
     "status": "ok",
     "timestamp": 1602352021652,
     "user": {
      "displayName": "Wenbo Sun",
      "photoUrl": "https://lh3.googleusercontent.com/a-/AOh14GjbODTcAfnSjY7ZGd6L0WOazZodNthJ9oDCwoCB=s64",
      "userId": "07942638377088533800"
     },
     "user_tz": 240
    },
    "id": "BuZlXav4AlqL",
    "outputId": "05a6a2c4-afec-43db-d80c-df47dea2ea70"
   },
   "outputs": [
    {
     "data": {
      "text/plain": [
       "<matplotlib.legend.Legend at 0x7f47b70dfda0>"
      ]
     },
     "execution_count": 16,
     "metadata": {
      "tags": []
     },
     "output_type": "execute_result"
    },
    {
     "data": {
      "image/png": "[encoded data removed]",
      "text/plain": [
       "<Figure size 432x288 with 1 Axes>"
      ]
     },
     "metadata": {
      "tags": []
     },
     "output_type": "display_data"
    }
   ],
   "source": [
    "plt.plot(epochs[2:], train_mae1[2:], label = 'Training MAE')\n",
    "plt.plot(epochs[2:], val_mae1[2:], label = 'Validation MAE')\n",
    "plt.xlabel('Epochs')\n",
    "plt.ylabel('MAE')\n",
    "plt.legend()"
   ]
  },
  {
   "cell_type": "code",
   "execution_count": 17,
   "metadata": {
    "colab": {
     "base_uri": "https://localhost:8080/",
     "height": 50
    },
    "executionInfo": {
     "elapsed": 361,
     "status": "ok",
     "timestamp": 1602352023611,
     "user": {
      "displayName": "Wenbo Sun",
      "photoUrl": "https://lh3.googleusercontent.com/a-/AOh14GjbODTcAfnSjY7ZGd6L0WOazZodNthJ9oDCwoCB=s64",
      "userId": "07942638377088533800"
     },
     "user_tz": 240
    },
    "id": "YVUd6y4AAu6B",
    "outputId": "f31eb5eb-dbcc-4b1c-cea3-dda834d379af"
   },
   "outputs": [
    {
     "name": "stdout",
     "output_type": "stream",
     "text": [
      "14/14 [==============================] - 0s 11ms/step - loss: 0.0013 - mean_absolute_error: 0.0244\n"
     ]
    },
    {
     "data": {
      "text/plain": [
       "[0.0012683005770668387, 0.024405483156442642]"
      ]
     },
     "execution_count": 17,
     "metadata": {
      "tags": []
     },
     "output_type": "execute_result"
    }
   ],
   "source": [
    "model1.evaluate(test_gen, steps=test_steps)"
   ]
  },
  {
   "cell_type": "markdown",
   "metadata": {
    "id": "18kM7tCVA43Q"
   },
   "source": [
    "The Mean Absolute Error metric (MAE) is 0.0765. Recall that MAE is simply equal to mean(abs(predictions - targets)). Since our  data has been centered to 1 by devided it's maximum, we have a mae of 0.0765*134.18 =$ 10. 26477"
   ]
  },
  {
   "cell_type": "markdown",
   "metadata": {
    "id": "gDpsSuT3_Xpn"
   },
   "source": [
    "## a recurrent neural network with one `LSTM` layer."
   ]
  },
  {
   "cell_type": "code",
   "execution_count": null,
   "metadata": {
    "id": "bGCdLMcLK9c0"
   },
   "outputs": [],
   "source": []
  },
  {
   "cell_type": "code",
   "execution_count": null,
   "metadata": {
    "id": "Uz0XEY00Cfg9"
   },
   "outputs": [],
   "source": [
    "model2 = models.Sequential()\n",
    "model2.add(layers.LSTM(128, input_shape=(lookback // step, 4)))\n",
    "model2.add(layers.Dense(1))"
   ]
  },
  {
   "cell_type": "code",
   "execution_count": null,
   "metadata": {
    "id": "cONEUL-QC2Bh"
   },
   "outputs": [],
   "source": [
    "from tensorflow.keras import optimizers\n",
    "from tensorflow.keras import losses\n",
    "from tensorflow.keras import metrics\n",
    "\n",
    "model2.compile(optimizer=optimizers.Adam(learning_rate=1e-4),\n",
    "              loss=losses.MeanSquaredError(),\n",
    "              metrics=[metrics.MeanAbsoluteError()])"
   ]
  },
  {
   "cell_type": "code",
   "execution_count": null,
   "metadata": {
    "colab": {
     "base_uri": "https://localhost:8080/",
     "height": 1000
    },
    "executionInfo": {
     "elapsed": 125979,
     "status": "ok",
     "timestamp": 1601604384636,
     "user": {
      "displayName": "Wenbo Sun",
      "photoUrl": "https://lh3.googleusercontent.com/a-/AOh14GjbODTcAfnSjY7ZGd6L0WOazZodNthJ9oDCwoCB=s64",
      "userId": "07942638377088533800"
     },
     "user_tz": 240
    },
    "id": "uDoRbm60Cfwa",
    "outputId": "a09ffb7c-0485-4364-8779-47f45f8391ee"
   },
   "outputs": [
    {
     "name": "stdout",
     "output_type": "stream",
     "text": [
      "Epoch 1/50\n",
      "20/20 [==============================] - 3s 137ms/step - loss: 0.0023 - mean_absolute_error: 0.0331 - val_loss: 0.0033 - val_mean_absolute_error: 0.0541\n",
      "Epoch 2/50\n",
      "20/20 [==============================] - 2s 116ms/step - loss: 4.1215e-04 - mean_absolute_error: 0.0181 - val_loss: 7.9706e-04 - val_mean_absolute_error: 0.0253\n",
      "Epoch 3/50\n",
      "20/20 [==============================] - 2s 118ms/step - loss: 1.8097e-04 - mean_absolute_error: 0.0112 - val_loss: 5.1733e-04 - val_mean_absolute_error: 0.0205\n",
      "Epoch 4/50\n",
      "20/20 [==============================] - 2s 118ms/step - loss: 7.0302e-05 - mean_absolute_error: 0.0069 - val_loss: 9.1134e-05 - val_mean_absolute_error: 0.0074\n",
      "Epoch 5/50\n",
      "20/20 [==============================] - 2s 122ms/step - loss: 3.0768e-05 - mean_absolute_error: 0.0040 - val_loss: 9.2288e-05 - val_mean_absolute_error: 0.0074\n",
      "Epoch 6/50\n",
      "20/20 [==============================] - 2s 117ms/step - loss: 2.5800e-05 - mean_absolute_error: 0.0034 - val_loss: 1.1772e-04 - val_mean_absolute_error: 0.0083\n",
      "Epoch 7/50\n",
      "20/20 [==============================] - 2s 120ms/step - loss: 2.4374e-05 - mean_absolute_error: 0.0032 - val_loss: 9.5710e-05 - val_mean_absolute_error: 0.0075\n",
      "Epoch 8/50\n",
      "20/20 [==============================] - 2s 117ms/step - loss: 2.3087e-05 - mean_absolute_error: 0.0033 - val_loss: 9.2587e-05 - val_mean_absolute_error: 0.0074\n",
      "Epoch 9/50\n",
      "20/20 [==============================] - 2s 121ms/step - loss: 2.3169e-05 - mean_absolute_error: 0.0033 - val_loss: 9.4987e-05 - val_mean_absolute_error: 0.0075\n",
      "Epoch 10/50\n",
      "20/20 [==============================] - 2s 116ms/step - loss: 2.3298e-05 - mean_absolute_error: 0.0033 - val_loss: 9.7107e-05 - val_mean_absolute_error: 0.0076\n",
      "Epoch 11/50\n",
      "20/20 [==============================] - 2s 117ms/step - loss: 2.4240e-05 - mean_absolute_error: 0.0033 - val_loss: 9.2354e-05 - val_mean_absolute_error: 0.0074\n",
      "Epoch 12/50\n",
      "20/20 [==============================] - 2s 119ms/step - loss: 2.2968e-05 - mean_absolute_error: 0.0032 - val_loss: 9.7139e-05 - val_mean_absolute_error: 0.0076\n",
      "Epoch 13/50\n",
      "20/20 [==============================] - 2s 119ms/step - loss: 2.3910e-05 - mean_absolute_error: 0.0032 - val_loss: 8.4046e-05 - val_mean_absolute_error: 0.0071\n",
      "Epoch 14/50\n",
      "20/20 [==============================] - 2s 117ms/step - loss: 2.3502e-05 - mean_absolute_error: 0.0034 - val_loss: 8.3726e-05 - val_mean_absolute_error: 0.0070\n",
      "Epoch 15/50\n",
      "20/20 [==============================] - 2s 116ms/step - loss: 2.3217e-05 - mean_absolute_error: 0.0033 - val_loss: 8.9322e-05 - val_mean_absolute_error: 0.0072\n",
      "Epoch 16/50\n",
      "20/20 [==============================] - 2s 122ms/step - loss: 2.2427e-05 - mean_absolute_error: 0.0031 - val_loss: 8.4897e-05 - val_mean_absolute_error: 0.0071\n",
      "Epoch 17/50\n",
      "20/20 [==============================] - 2s 120ms/step - loss: 2.2110e-05 - mean_absolute_error: 0.0031 - val_loss: 8.2092e-05 - val_mean_absolute_error: 0.0070\n",
      "Epoch 18/50\n",
      "20/20 [==============================] - 2s 118ms/step - loss: 2.2760e-05 - mean_absolute_error: 0.0033 - val_loss: 8.3480e-05 - val_mean_absolute_error: 0.0070\n",
      "Epoch 19/50\n",
      "20/20 [==============================] - 2s 117ms/step - loss: 2.0560e-05 - mean_absolute_error: 0.0030 - val_loss: 9.4750e-05 - val_mean_absolute_error: 0.0075\n",
      "Epoch 20/50\n",
      "20/20 [==============================] - 2s 119ms/step - loss: 2.1638e-05 - mean_absolute_error: 0.0031 - val_loss: 9.2320e-05 - val_mean_absolute_error: 0.0074\n",
      "Epoch 21/50\n",
      "20/20 [==============================] - 2s 122ms/step - loss: 2.1620e-05 - mean_absolute_error: 0.0031 - val_loss: 8.5276e-05 - val_mean_absolute_error: 0.0071\n",
      "Epoch 22/50\n",
      "20/20 [==============================] - 2s 121ms/step - loss: 2.2660e-05 - mean_absolute_error: 0.0032 - val_loss: 7.9956e-05 - val_mean_absolute_error: 0.0069\n",
      "Epoch 23/50\n",
      "20/20 [==============================] - 2s 119ms/step - loss: 2.2155e-05 - mean_absolute_error: 0.0032 - val_loss: 7.8076e-05 - val_mean_absolute_error: 0.0068\n",
      "Epoch 24/50\n",
      "20/20 [==============================] - 2s 120ms/step - loss: 2.3597e-05 - mean_absolute_error: 0.0033 - val_loss: 7.8163e-05 - val_mean_absolute_error: 0.0068\n",
      "Epoch 25/50\n",
      "20/20 [==============================] - 2s 122ms/step - loss: 2.2026e-05 - mean_absolute_error: 0.0031 - val_loss: 8.1780e-05 - val_mean_absolute_error: 0.0069\n",
      "Epoch 26/50\n",
      "20/20 [==============================] - 2s 120ms/step - loss: 2.1584e-05 - mean_absolute_error: 0.0031 - val_loss: 8.7512e-05 - val_mean_absolute_error: 0.0072\n",
      "Epoch 27/50\n",
      "20/20 [==============================] - 2s 120ms/step - loss: 2.0529e-05 - mean_absolute_error: 0.0031 - val_loss: 8.2571e-05 - val_mean_absolute_error: 0.0070\n",
      "Epoch 28/50\n",
      "20/20 [==============================] - 2s 119ms/step - loss: 1.7383e-05 - mean_absolute_error: 0.0029 - val_loss: 9.7989e-05 - val_mean_absolute_error: 0.0077\n",
      "Epoch 29/50\n",
      "20/20 [==============================] - 2s 118ms/step - loss: 2.0260e-05 - mean_absolute_error: 0.0030 - val_loss: 7.6191e-05 - val_mean_absolute_error: 0.0067\n",
      "Epoch 30/50\n",
      "20/20 [==============================] - 2s 118ms/step - loss: 1.9114e-05 - mean_absolute_error: 0.0030 - val_loss: 7.5667e-05 - val_mean_absolute_error: 0.0067\n",
      "Epoch 31/50\n",
      "20/20 [==============================] - 2s 119ms/step - loss: 2.0552e-05 - mean_absolute_error: 0.0030 - val_loss: 8.0669e-05 - val_mean_absolute_error: 0.0069\n",
      "Epoch 32/50\n",
      "20/20 [==============================] - 2s 117ms/step - loss: 1.9971e-05 - mean_absolute_error: 0.0030 - val_loss: 7.4656e-05 - val_mean_absolute_error: 0.0066\n",
      "Epoch 33/50\n",
      "20/20 [==============================] - 2s 118ms/step - loss: 2.0448e-05 - mean_absolute_error: 0.0031 - val_loss: 7.7652e-05 - val_mean_absolute_error: 0.0068\n",
      "Epoch 34/50\n",
      "20/20 [==============================] - 2s 122ms/step - loss: 2.0697e-05 - mean_absolute_error: 0.0030 - val_loss: 7.3594e-05 - val_mean_absolute_error: 0.0066\n",
      "Epoch 35/50\n",
      "20/20 [==============================] - 2s 117ms/step - loss: 1.9087e-05 - mean_absolute_error: 0.0030 - val_loss: 7.3990e-05 - val_mean_absolute_error: 0.0066\n",
      "Epoch 36/50\n",
      "20/20 [==============================] - 2s 118ms/step - loss: 1.8048e-05 - mean_absolute_error: 0.0029 - val_loss: 7.3349e-05 - val_mean_absolute_error: 0.0066\n",
      "Epoch 37/50\n",
      "20/20 [==============================] - 2s 120ms/step - loss: 2.1785e-05 - mean_absolute_error: 0.0031 - val_loss: 7.3516e-05 - val_mean_absolute_error: 0.0066\n",
      "Epoch 38/50\n",
      "20/20 [==============================] - 2s 117ms/step - loss: 1.9698e-05 - mean_absolute_error: 0.0030 - val_loss: 7.3476e-05 - val_mean_absolute_error: 0.0066\n",
      "Epoch 39/50\n",
      "20/20 [==============================] - 2s 117ms/step - loss: 2.0070e-05 - mean_absolute_error: 0.0030 - val_loss: 7.2420e-05 - val_mean_absolute_error: 0.0065\n",
      "Epoch 40/50\n",
      "20/20 [==============================] - 2s 120ms/step - loss: 1.8521e-05 - mean_absolute_error: 0.0029 - val_loss: 7.1649e-05 - val_mean_absolute_error: 0.0065\n",
      "Epoch 41/50\n",
      "20/20 [==============================] - 2s 115ms/step - loss: 2.0041e-05 - mean_absolute_error: 0.0031 - val_loss: 7.4741e-05 - val_mean_absolute_error: 0.0067\n",
      "Epoch 42/50\n",
      "20/20 [==============================] - 2s 119ms/step - loss: 1.7020e-05 - mean_absolute_error: 0.0027 - val_loss: 7.1571e-05 - val_mean_absolute_error: 0.0065\n",
      "Epoch 43/50\n",
      "20/20 [==============================] - 2s 119ms/step - loss: 1.9144e-05 - mean_absolute_error: 0.0029 - val_loss: 7.0831e-05 - val_mean_absolute_error: 0.0064\n",
      "Epoch 44/50\n",
      "20/20 [==============================] - 2s 119ms/step - loss: 1.7621e-05 - mean_absolute_error: 0.0029 - val_loss: 7.0443e-05 - val_mean_absolute_error: 0.0064\n",
      "Epoch 45/50\n",
      "20/20 [==============================] - 2s 118ms/step - loss: 1.8426e-05 - mean_absolute_error: 0.0029 - val_loss: 7.1563e-05 - val_mean_absolute_error: 0.0065\n",
      "Epoch 46/50\n",
      "20/20 [==============================] - 2s 119ms/step - loss: 1.9158e-05 - mean_absolute_error: 0.0029 - val_loss: 7.3181e-05 - val_mean_absolute_error: 0.0066\n",
      "Epoch 47/50\n",
      "20/20 [==============================] - 2s 118ms/step - loss: 1.8117e-05 - mean_absolute_error: 0.0029 - val_loss: 6.9913e-05 - val_mean_absolute_error: 0.0064\n",
      "Epoch 48/50\n",
      "20/20 [==============================] - 2s 116ms/step - loss: 1.8240e-05 - mean_absolute_error: 0.0029 - val_loss: 7.4891e-05 - val_mean_absolute_error: 0.0067\n",
      "Epoch 49/50\n",
      "20/20 [==============================] - 2s 118ms/step - loss: 1.9271e-05 - mean_absolute_error: 0.0029 - val_loss: 7.1966e-05 - val_mean_absolute_error: 0.0065\n",
      "Epoch 50/50\n",
      "20/20 [==============================] - 2s 120ms/step - loss: 1.8368e-05 - mean_absolute_error: 0.0029 - val_loss: 7.2491e-05 - val_mean_absolute_error: 0.0066\n"
     ]
    }
   ],
   "source": [
    "model2_history = model2.fit(train_gen,\n",
    "                            steps_per_epoch=20,\n",
    "                            epochs=50,\n",
    "                            validation_data=val_gen,\n",
    "                            validation_steps=val_steps)"
   ]
  },
  {
   "cell_type": "code",
   "execution_count": null,
   "metadata": {
    "colab": {
     "base_uri": "https://localhost:8080/",
     "height": 302
    },
    "executionInfo": {
     "elapsed": 623,
     "status": "ok",
     "timestamp": 1601604460314,
     "user": {
      "displayName": "Wenbo Sun",
      "photoUrl": "https://lh3.googleusercontent.com/a-/AOh14GjbODTcAfnSjY7ZGd6L0WOazZodNthJ9oDCwoCB=s64",
      "userId": "07942638377088533800"
     },
     "user_tz": 240
    },
    "id": "bQdvxZxDD_fz",
    "outputId": "da6590cb-6cc7-4a5c-f5bd-e5e6951a43ce"
   },
   "outputs": [
    {
     "data": {
      "text/plain": [
       "<matplotlib.legend.Legend at 0x7f5cbe878898>"
      ]
     },
     "execution_count": 40,
     "metadata": {
      "tags": []
     },
     "output_type": "execute_result"
    },
    {
     "data": {
      "image/png": "[encoded data removed]",
      "text/plain": [
       "<Figure size 432x288 with 1 Axes>"
      ]
     },
     "metadata": {
      "tags": []
     },
     "output_type": "display_data"
    }
   ],
   "source": [
    "import seaborn as sns\n",
    "sns.set()\n",
    "\n",
    "train_loss2 = model2_history.history['loss']\n",
    "train_mae2 = model2_history.history['mean_absolute_error']\n",
    "val_loss2 = model2_history.history['val_loss']\n",
    "val_mae2 = model2_history.history['val_mean_absolute_error']\n",
    "\n",
    "epochs = range(1, len(train_loss1) + 1)\n",
    "\n",
    "plt.plot(epochs, train_loss2, label = 'Training Loss')\n",
    "plt.plot(epochs, val_loss2, label = 'Validation Loss')\n",
    "plt.xlabel('Epochs')\n",
    "plt.ylabel('Loss')\n",
    "plt.legend()"
   ]
  },
  {
   "cell_type": "code",
   "execution_count": null,
   "metadata": {
    "colab": {
     "base_uri": "https://localhost:8080/",
     "height": 302
    },
    "executionInfo": {
     "elapsed": 671,
     "status": "ok",
     "timestamp": 1601604619025,
     "user": {
      "displayName": "Wenbo Sun",
      "photoUrl": "https://lh3.googleusercontent.com/a-/AOh14GjbODTcAfnSjY7ZGd6L0WOazZodNthJ9oDCwoCB=s64",
      "userId": "07942638377088533800"
     },
     "user_tz": 240
    },
    "id": "tnRdeNk4ELBg",
    "outputId": "bfab228b-6ee2-490d-8779-b4e3ee9c3f2d"
   },
   "outputs": [
    {
     "data": {
      "text/plain": [
       "<matplotlib.legend.Legend at 0x7f5cbe5c84e0>"
      ]
     },
     "execution_count": 45,
     "metadata": {
      "tags": []
     },
     "output_type": "execute_result"
    },
    {
     "data": {
      "image/png": "[encoded data removed]",
      "text/plain": [
       "<Figure size 432x288 with 1 Axes>"
      ]
     },
     "metadata": {
      "tags": []
     },
     "output_type": "display_data"
    }
   ],
   "source": [
    "plt.plot(epochs[3:], train_loss2[3:], label = 'Training Loss')\n",
    "plt.plot(epochs[3:], val_loss2[3:], label = 'Validation Loss')\n",
    "plt.xlabel('Epochs')\n",
    "plt.ylabel('Loss')\n",
    "plt.legend()"
   ]
  },
  {
   "cell_type": "code",
   "execution_count": null,
   "metadata": {
    "colab": {
     "base_uri": "https://localhost:8080/",
     "height": 302
    },
    "executionInfo": {
     "elapsed": 540,
     "status": "ok",
     "timestamp": 1601604603406,
     "user": {
      "displayName": "Wenbo Sun",
      "photoUrl": "https://lh3.googleusercontent.com/a-/AOh14GjbODTcAfnSjY7ZGd6L0WOazZodNthJ9oDCwoCB=s64",
      "userId": "07942638377088533800"
     },
     "user_tz": 240
    },
    "id": "tD4KM_BzEeUG",
    "outputId": "d90b1115-455e-4bfd-a4d0-0dda73ef9b32"
   },
   "outputs": [
    {
     "data": {
      "text/plain": [
       "<matplotlib.legend.Legend at 0x7f5cbe65f940>"
      ]
     },
     "execution_count": 44,
     "metadata": {
      "tags": []
     },
     "output_type": "execute_result"
    },
    {
     "data": {
      "image/png": "[encoded data removed]",
      "text/plain": [
       "<Figure size 432x288 with 1 Axes>"
      ]
     },
     "metadata": {
      "tags": []
     },
     "output_type": "display_data"
    }
   ],
   "source": [
    "plt.plot(epochs[3:], train_mae2[3:], label = 'Training MAE')\n",
    "plt.plot(epochs[3:], val_mae2[3:], label = 'Validation MAE')\n",
    "plt.xlabel('Epochs')\n",
    "plt.ylabel('MAE')\n",
    "plt.legend()"
   ]
  },
  {
   "cell_type": "code",
   "execution_count": null,
   "metadata": {
    "colab": {
     "base_uri": "https://localhost:8080/",
     "height": 50
    },
    "executionInfo": {
     "elapsed": 806,
     "status": "ok",
     "timestamp": 1601604644805,
     "user": {
      "displayName": "Wenbo Sun",
      "photoUrl": "https://lh3.googleusercontent.com/a-/AOh14GjbODTcAfnSjY7ZGd6L0WOazZodNthJ9oDCwoCB=s64",
      "userId": "07942638377088533800"
     },
     "user_tz": 240
    },
    "id": "wQ1XM_YYE09x",
    "outputId": "6bfef9f7-792a-4ca0-d9b5-346fa2c4e608"
   },
   "outputs": [
    {
     "name": "stdout",
     "output_type": "stream",
     "text": [
      "14/14 [==============================] - 0s 35ms/step - loss: 5.1983e-04 - mean_absolute_error: 0.0166\n"
     ]
    },
    {
     "data": {
      "text/plain": [
       "[0.0005198306171223521, 0.016552308574318886]"
      ]
     },
     "execution_count": 46,
     "metadata": {
      "tags": []
     },
     "output_type": "execute_result"
    }
   ],
   "source": [
    "model2.evaluate(test_gen, steps=test_steps)"
   ]
  },
  {
   "cell_type": "markdown",
   "metadata": {
    "id": "9r1c-tkHE8AG"
   },
   "source": [
    "The Mean Absolute Error metric (MAE) is 0.0166. Recall that MAE is simply equal to mean(abs(predictions - targets)). Since our data has been centered to 1 by devided it's maximum, we have a mae of 0.0166*134.18 =$ 2.2273"
   ]
  },
  {
   "cell_type": "markdown",
   "metadata": {
    "id": "ezs8lG8XGDLI"
   },
   "source": [
    "# Try recurrent dropout"
   ]
  },
  {
   "cell_type": "code",
   "execution_count": null,
   "metadata": {
    "id": "gT95tM-sFgEz"
   },
   "outputs": [],
   "source": [
    "model3 = models.Sequential()\n",
    "model3.add(layers.LSTM(32,\n",
    "                      input_shape=(lookback // step, 4),\n",
    "                      dropout=0.5,\n",
    "                      recurrent_dropout=0.5))\n",
    "model3.add(layers.Dense(1))\n"
   ]
  },
  {
   "cell_type": "code",
   "execution_count": null,
   "metadata": {
    "colab": {
     "base_uri": "https://localhost:8080/",
     "height": 1000
    },
    "executionInfo": {
     "elapsed": 65152,
     "status": "ok",
     "timestamp": 1601604981741,
     "user": {
      "displayName": "Wenbo Sun",
      "photoUrl": "https://lh3.googleusercontent.com/a-/AOh14GjbODTcAfnSjY7ZGd6L0WOazZodNthJ9oDCwoCB=s64",
      "userId": "07942638377088533800"
     },
     "user_tz": 240
    },
    "id": "qqN5ZSXbFqBo",
    "outputId": "0ee7ad43-1157-434d-8008-feb906d15b30"
   },
   "outputs": [
    {
     "name": "stdout",
     "output_type": "stream",
     "text": [
      "Epoch 1/50\n",
      "20/20 [==============================] - 1s 71ms/step - loss: 0.0014 - mean_absolute_error: 0.0252 - val_loss: 0.0038 - val_mean_absolute_error: 0.0593\n",
      "Epoch 2/50\n",
      "20/20 [==============================] - 1s 57ms/step - loss: 5.6746e-04 - mean_absolute_error: 0.0167 - val_loss: 0.0011 - val_mean_absolute_error: 0.0305\n",
      "Epoch 3/50\n",
      "20/20 [==============================] - 1s 58ms/step - loss: 4.2683e-04 - mean_absolute_error: 0.0164 - val_loss: 7.5418e-04 - val_mean_absolute_error: 0.0253\n",
      "Epoch 4/50\n",
      "20/20 [==============================] - 1s 59ms/step - loss: 4.4423e-04 - mean_absolute_error: 0.0156 - val_loss: 6.4395e-04 - val_mean_absolute_error: 0.0233\n",
      "Epoch 5/50\n",
      "20/20 [==============================] - 1s 69ms/step - loss: 3.7147e-04 - mean_absolute_error: 0.0139 - val_loss: 4.4460e-04 - val_mean_absolute_error: 0.0191\n",
      "Epoch 6/50\n",
      "20/20 [==============================] - 1s 59ms/step - loss: 3.9780e-04 - mean_absolute_error: 0.0140 - val_loss: 2.8717e-04 - val_mean_absolute_error: 0.0150\n",
      "Epoch 7/50\n",
      "20/20 [==============================] - 1s 62ms/step - loss: 3.5347e-04 - mean_absolute_error: 0.0133 - val_loss: 2.3495e-04 - val_mean_absolute_error: 0.0135\n",
      "Epoch 8/50\n",
      "20/20 [==============================] - 1s 60ms/step - loss: 3.3321e-04 - mean_absolute_error: 0.0125 - val_loss: 1.5526e-04 - val_mean_absolute_error: 0.0106\n",
      "Epoch 9/50\n",
      "20/20 [==============================] - 1s 63ms/step - loss: 3.5314e-04 - mean_absolute_error: 0.0124 - val_loss: 1.5260e-04 - val_mean_absolute_error: 0.0105\n",
      "Epoch 10/50\n",
      "20/20 [==============================] - 1s 58ms/step - loss: 2.8738e-04 - mean_absolute_error: 0.0114 - val_loss: 1.5022e-04 - val_mean_absolute_error: 0.0104\n",
      "Epoch 11/50\n",
      "20/20 [==============================] - 1s 59ms/step - loss: 2.7659e-04 - mean_absolute_error: 0.0111 - val_loss: 1.0009e-04 - val_mean_absolute_error: 0.0081\n",
      "Epoch 12/50\n",
      "20/20 [==============================] - 1s 58ms/step - loss: 2.7721e-04 - mean_absolute_error: 0.0114 - val_loss: 6.7483e-05 - val_mean_absolute_error: 0.0063\n",
      "Epoch 13/50\n",
      "20/20 [==============================] - 1s 59ms/step - loss: 2.8958e-04 - mean_absolute_error: 0.0112 - val_loss: 1.0957e-04 - val_mean_absolute_error: 0.0086\n",
      "Epoch 14/50\n",
      "20/20 [==============================] - 1s 58ms/step - loss: 2.3154e-04 - mean_absolute_error: 0.0103 - val_loss: 8.5736e-05 - val_mean_absolute_error: 0.0074\n",
      "Epoch 15/50\n",
      "20/20 [==============================] - 1s 60ms/step - loss: 2.1722e-04 - mean_absolute_error: 0.0096 - val_loss: 8.1710e-05 - val_mean_absolute_error: 0.0071\n",
      "Epoch 16/50\n",
      "20/20 [==============================] - 1s 59ms/step - loss: 2.1014e-04 - mean_absolute_error: 0.0096 - val_loss: 9.2260e-05 - val_mean_absolute_error: 0.0077\n",
      "Epoch 17/50\n",
      "20/20 [==============================] - 1s 60ms/step - loss: 2.3238e-04 - mean_absolute_error: 0.0102 - val_loss: 6.8906e-05 - val_mean_absolute_error: 0.0064\n",
      "Epoch 18/50\n",
      "20/20 [==============================] - 1s 59ms/step - loss: 2.2540e-04 - mean_absolute_error: 0.0098 - val_loss: 7.9503e-05 - val_mean_absolute_error: 0.0070\n",
      "Epoch 19/50\n",
      "20/20 [==============================] - 1s 59ms/step - loss: 2.3551e-04 - mean_absolute_error: 0.0100 - val_loss: 8.4886e-05 - val_mean_absolute_error: 0.0073\n",
      "Epoch 20/50\n",
      "20/20 [==============================] - 1s 59ms/step - loss: 1.9499e-04 - mean_absolute_error: 0.0093 - val_loss: 7.8228e-05 - val_mean_absolute_error: 0.0069\n",
      "Epoch 21/50\n",
      "20/20 [==============================] - 1s 60ms/step - loss: 2.0371e-04 - mean_absolute_error: 0.0093 - val_loss: 7.6338e-05 - val_mean_absolute_error: 0.0068\n",
      "Epoch 22/50\n",
      "20/20 [==============================] - 1s 60ms/step - loss: 2.0873e-04 - mean_absolute_error: 0.0096 - val_loss: 1.1144e-04 - val_mean_absolute_error: 0.0087\n",
      "Epoch 23/50\n",
      "20/20 [==============================] - 1s 59ms/step - loss: 2.0427e-04 - mean_absolute_error: 0.0094 - val_loss: 7.3254e-05 - val_mean_absolute_error: 0.0066\n",
      "Epoch 24/50\n",
      "20/20 [==============================] - 1s 60ms/step - loss: 2.0172e-04 - mean_absolute_error: 0.0092 - val_loss: 9.4113e-05 - val_mean_absolute_error: 0.0078\n",
      "Epoch 25/50\n",
      "20/20 [==============================] - 1s 61ms/step - loss: 1.9608e-04 - mean_absolute_error: 0.0092 - val_loss: 9.7656e-05 - val_mean_absolute_error: 0.0080\n",
      "Epoch 26/50\n",
      "20/20 [==============================] - 1s 60ms/step - loss: 1.7345e-04 - mean_absolute_error: 0.0087 - val_loss: 7.6218e-05 - val_mean_absolute_error: 0.0068\n",
      "Epoch 27/50\n",
      "20/20 [==============================] - 1s 60ms/step - loss: 1.5776e-04 - mean_absolute_error: 0.0084 - val_loss: 7.0579e-05 - val_mean_absolute_error: 0.0064\n",
      "Epoch 28/50\n",
      "20/20 [==============================] - 1s 59ms/step - loss: 1.5650e-04 - mean_absolute_error: 0.0084 - val_loss: 7.6105e-05 - val_mean_absolute_error: 0.0068\n",
      "Epoch 29/50\n",
      "20/20 [==============================] - 1s 60ms/step - loss: 1.8029e-04 - mean_absolute_error: 0.0088 - val_loss: 7.7064e-05 - val_mean_absolute_error: 0.0068\n",
      "Epoch 30/50\n",
      "20/20 [==============================] - 1s 62ms/step - loss: 1.6324e-04 - mean_absolute_error: 0.0085 - val_loss: 7.5152e-05 - val_mean_absolute_error: 0.0067\n",
      "Epoch 31/50\n",
      "20/20 [==============================] - 1s 59ms/step - loss: 1.8391e-04 - mean_absolute_error: 0.0088 - val_loss: 1.3268e-04 - val_mean_absolute_error: 0.0096\n",
      "Epoch 32/50\n",
      "20/20 [==============================] - 1s 68ms/step - loss: 2.0620e-04 - mean_absolute_error: 0.0097 - val_loss: 7.1447e-05 - val_mean_absolute_error: 0.0065\n",
      "Epoch 33/50\n",
      "20/20 [==============================] - 1s 59ms/step - loss: 1.5521e-04 - mean_absolute_error: 0.0083 - val_loss: 7.5060e-05 - val_mean_absolute_error: 0.0067\n",
      "Epoch 34/50\n",
      "20/20 [==============================] - 1s 58ms/step - loss: 1.7002e-04 - mean_absolute_error: 0.0087 - val_loss: 7.5166e-05 - val_mean_absolute_error: 0.0067\n",
      "Epoch 35/50\n",
      "20/20 [==============================] - 1s 58ms/step - loss: 1.5067e-04 - mean_absolute_error: 0.0083 - val_loss: 7.2965e-05 - val_mean_absolute_error: 0.0065\n",
      "Epoch 36/50\n",
      "20/20 [==============================] - 1s 58ms/step - loss: 1.4875e-04 - mean_absolute_error: 0.0078 - val_loss: 7.2429e-05 - val_mean_absolute_error: 0.0065\n",
      "Epoch 37/50\n",
      "20/20 [==============================] - 1s 59ms/step - loss: 1.5221e-04 - mean_absolute_error: 0.0082 - val_loss: 8.8021e-05 - val_mean_absolute_error: 0.0074\n",
      "Epoch 38/50\n",
      "20/20 [==============================] - 1s 58ms/step - loss: 1.5150e-04 - mean_absolute_error: 0.0080 - val_loss: 9.8755e-05 - val_mean_absolute_error: 0.0080\n",
      "Epoch 39/50\n",
      "20/20 [==============================] - 1s 64ms/step - loss: 1.6218e-04 - mean_absolute_error: 0.0083 - val_loss: 8.0986e-05 - val_mean_absolute_error: 0.0070\n",
      "Epoch 40/50\n",
      "20/20 [==============================] - 1s 58ms/step - loss: 1.4199e-04 - mean_absolute_error: 0.0080 - val_loss: 9.6946e-05 - val_mean_absolute_error: 0.0079\n",
      "Epoch 41/50\n",
      "20/20 [==============================] - 1s 59ms/step - loss: 1.6866e-04 - mean_absolute_error: 0.0084 - val_loss: 7.4987e-05 - val_mean_absolute_error: 0.0066\n",
      "Epoch 42/50\n",
      "20/20 [==============================] - 1s 59ms/step - loss: 1.4300e-04 - mean_absolute_error: 0.0078 - val_loss: 9.3089e-05 - val_mean_absolute_error: 0.0077\n",
      "Epoch 43/50\n",
      "20/20 [==============================] - 1s 60ms/step - loss: 1.3287e-04 - mean_absolute_error: 0.0077 - val_loss: 1.0824e-04 - val_mean_absolute_error: 0.0085\n",
      "Epoch 44/50\n",
      "20/20 [==============================] - 1s 60ms/step - loss: 1.2973e-04 - mean_absolute_error: 0.0077 - val_loss: 9.0222e-05 - val_mean_absolute_error: 0.0075\n",
      "Epoch 45/50\n",
      "20/20 [==============================] - 1s 63ms/step - loss: 1.4342e-04 - mean_absolute_error: 0.0077 - val_loss: 9.0167e-05 - val_mean_absolute_error: 0.0075\n",
      "Epoch 46/50\n",
      "20/20 [==============================] - 1s 61ms/step - loss: 1.4254e-04 - mean_absolute_error: 0.0080 - val_loss: 7.6398e-05 - val_mean_absolute_error: 0.0067\n",
      "Epoch 47/50\n",
      "20/20 [==============================] - 1s 59ms/step - loss: 1.3859e-04 - mean_absolute_error: 0.0077 - val_loss: 8.4414e-05 - val_mean_absolute_error: 0.0072\n",
      "Epoch 48/50\n",
      "20/20 [==============================] - 1s 59ms/step - loss: 1.3362e-04 - mean_absolute_error: 0.0078 - val_loss: 9.8512e-05 - val_mean_absolute_error: 0.0080\n",
      "Epoch 49/50\n",
      "20/20 [==============================] - 1s 60ms/step - loss: 1.5820e-04 - mean_absolute_error: 0.0084 - val_loss: 8.1743e-05 - val_mean_absolute_error: 0.0070\n",
      "Epoch 50/50\n",
      "20/20 [==============================] - 1s 59ms/step - loss: 1.4114e-04 - mean_absolute_error: 0.0077 - val_loss: 7.8871e-05 - val_mean_absolute_error: 0.0068\n"
     ]
    }
   ],
   "source": [
    "model3.compile(optimizer=optimizers.Adam(learning_rate=1e-4),\n",
    "              loss=losses.MeanSquaredError(),\n",
    "              metrics=[metrics.MeanAbsoluteError()])\n",
    "\n",
    "model3_history = model3.fit(train_gen,\n",
    "                            steps_per_epoch=20,\n",
    "                            epochs=50,\n",
    "                            validation_data=val_gen,\n",
    "                            validation_steps=val_steps)"
   ]
  },
  {
   "cell_type": "code",
   "execution_count": null,
   "metadata": {
    "colab": {
     "base_uri": "https://localhost:8080/",
     "height": 302
    },
    "executionInfo": {
     "elapsed": 608,
     "status": "ok",
     "timestamp": 1601605035337,
     "user": {
      "displayName": "Wenbo Sun",
      "photoUrl": "https://lh3.googleusercontent.com/a-/AOh14GjbODTcAfnSjY7ZGd6L0WOazZodNthJ9oDCwoCB=s64",
      "userId": "07942638377088533800"
     },
     "user_tz": 240
    },
    "id": "qbQYmZ6IGOFP",
    "outputId": "fae20c29-d324-4654-af60-1d411a8a1ab0"
   },
   "outputs": [
    {
     "data": {
      "text/plain": [
       "<matplotlib.legend.Legend at 0x7f5cbcf10438>"
      ]
     },
     "execution_count": 49,
     "metadata": {
      "tags": []
     },
     "output_type": "execute_result"
    },
    {
     "data": {
      "image/png": "[encoded data removed]",
      "text/plain": [
       "<Figure size 432x288 with 1 Axes>"
      ]
     },
     "metadata": {
      "tags": []
     },
     "output_type": "display_data"
    }
   ],
   "source": [
    "import seaborn as sns\n",
    "sns.set()\n",
    "\n",
    "train_loss3 = model3_history.history['loss']\n",
    "train_mae3 = model3_history.history['mean_absolute_error']\n",
    "val_loss3 = model3_history.history['val_loss']\n",
    "val_mae3 = model3_history.history['val_mean_absolute_error']\n",
    "\n",
    "epochs = range(1, len(train_loss1) + 1)\n",
    "\n",
    "plt.plot(epochs, train_loss3, label = 'Training Loss')\n",
    "plt.plot(epochs, val_loss3, label = 'Validation Loss')\n",
    "plt.xlabel('Epochs')\n",
    "plt.ylabel('Loss')\n",
    "plt.legend()"
   ]
  },
  {
   "cell_type": "code",
   "execution_count": null,
   "metadata": {
    "colab": {
     "base_uri": "https://localhost:8080/",
     "height": 302
    },
    "executionInfo": {
     "elapsed": 607,
     "status": "ok",
     "timestamp": 1601605079046,
     "user": {
      "displayName": "Wenbo Sun",
      "photoUrl": "https://lh3.googleusercontent.com/a-/AOh14GjbODTcAfnSjY7ZGd6L0WOazZodNthJ9oDCwoCB=s64",
      "userId": "07942638377088533800"
     },
     "user_tz": 240
    },
    "id": "xv6OftOqGN64",
    "outputId": "7f6a70b8-7e3e-4f28-c98c-2b0078e37df3"
   },
   "outputs": [
    {
     "data": {
      "text/plain": [
       "<matplotlib.legend.Legend at 0x7f5cbcefa518>"
      ]
     },
     "execution_count": 50,
     "metadata": {
      "tags": []
     },
     "output_type": "execute_result"
    },
    {
     "data": {
      "image/png": "[encoded data removed]",
      "text/plain": [
       "<Figure size 432x288 with 1 Axes>"
      ]
     },
     "metadata": {
      "tags": []
     },
     "output_type": "display_data"
    }
   ],
   "source": [
    "plt.plot(epochs[3:], train_loss3[3:], label = 'Training Loss')\n",
    "plt.plot(epochs[3:], val_loss3[3:], label = 'Validation Loss')\n",
    "plt.xlabel('Epochs')\n",
    "plt.ylabel('Loss')\n",
    "plt.legend()"
   ]
  },
  {
   "cell_type": "code",
   "execution_count": null,
   "metadata": {
    "colab": {
     "base_uri": "https://localhost:8080/",
     "height": 302
    },
    "executionInfo": {
     "elapsed": 677,
     "status": "ok",
     "timestamp": 1601605096444,
     "user": {
      "displayName": "Wenbo Sun",
      "photoUrl": "https://lh3.googleusercontent.com/a-/AOh14GjbODTcAfnSjY7ZGd6L0WOazZodNthJ9oDCwoCB=s64",
      "userId": "07942638377088533800"
     },
     "user_tz": 240
    },
    "id": "JUqSZHQuGhnP",
    "outputId": "abd563da-2e70-4614-f54c-391fface5de2"
   },
   "outputs": [
    {
     "data": {
      "text/plain": [
       "<matplotlib.legend.Legend at 0x7f5cbceada58>"
      ]
     },
     "execution_count": 51,
     "metadata": {
      "tags": []
     },
     "output_type": "execute_result"
    },
    {
     "data": {
      "image/png": "[encoded data removed]",
      "text/plain": [
       "<Figure size 432x288 with 1 Axes>"
      ]
     },
     "metadata": {
      "tags": []
     },
     "output_type": "display_data"
    }
   ],
   "source": [
    "plt.plot(epochs[3:], train_mae3[3:], label = 'Training MAE')\n",
    "plt.plot(epochs[3:], val_mae3[3:], label = 'Validation MAE')\n",
    "plt.xlabel('Epochs')\n",
    "plt.ylabel('MAE')\n",
    "plt.legend()"
   ]
  },
  {
   "cell_type": "code",
   "execution_count": null,
   "metadata": {
    "colab": {
     "base_uri": "https://localhost:8080/",
     "height": 50
    },
    "executionInfo": {
     "elapsed": 377,
     "status": "ok",
     "timestamp": 1601605127669,
     "user": {
      "displayName": "Wenbo Sun",
      "photoUrl": "https://lh3.googleusercontent.com/a-/AOh14GjbODTcAfnSjY7ZGd6L0WOazZodNthJ9oDCwoCB=s64",
      "userId": "07942638377088533800"
     },
     "user_tz": 240
    },
    "id": "Is5l_AtJGrO-",
    "outputId": "3a92bf8b-0715-4d3e-a68b-ca9322853308"
   },
   "outputs": [
    {
     "name": "stdout",
     "output_type": "stream",
     "text": [
      "14/14 [==============================] - 0s 9ms/step - loss: 0.0031 - mean_absolute_error: 0.0394\n"
     ]
    },
    {
     "data": {
      "text/plain": [
       "[0.0031119571067392826, 0.03938179090619087]"
      ]
     },
     "execution_count": 52,
     "metadata": {
      "tags": []
     },
     "output_type": "execute_result"
    }
   ],
   "source": [
    "model3.evaluate(test_gen, steps=test_steps)"
   ]
  }
 ],
 "metadata": {
  "colab": {
   "collapsed_sections": [],
   "name": "Wenbo_Sun_HW3.ipynb",
   "provenance": [],
   "toc_visible": true
  },
  "kernelspec": {
   "display_name": "Python 3",
   "language": "python",
   "name": "python3"
  },
  "language_info": {
   "codemirror_mode": {
    "name": "ipython",
    "version": 3
   },
   "file_extension": ".py",
   "mimetype": "text/x-python",
   "name": "python",
   "nbconvert_exporter": "python",
   "pygments_lexer": "ipython3",
   "version": "3.8.3"
  }
 },
 "nbformat": 4,
 "nbformat_minor": 1
}
